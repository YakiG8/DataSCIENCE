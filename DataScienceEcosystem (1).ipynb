{
  "nbformat": 4,
  "nbformat_minor": 0,
  "metadata": {
    "colab": {
      "provenance": []
    },
    "kernelspec": {
      "name": "python3",
      "display_name": "Python 3"
    },
    "language_info": {
      "name": "python"
    }
  },
  "cells": [
    {
      "cell_type": "markdown",
      "source": [
        "## *Data Science Tools and Ecosystem*"
      ],
      "metadata": {
        "id": "YDMdDc4POxtu"
      }
    },
    {
      "cell_type": "markdown",
      "source": [
        "In this notebook, Data Science Tools and Ecosystem are summarized.\n",
        "\n",
        "Some of the popular languages that Data Scientists use are:\n",
        "\n",
        "1.   R\n",
        "2.   C++\n",
        "3.  Python\n",
        "4. Jaba Script\n",
        "5. SQL.\n",
        "6. Java.\n",
        "7. Scala.\n",
        "\n",
        "\n",
        "Some of the commonly used libraries used by Data Scientists include:\n",
        "\n",
        "1. Numpy\n",
        "2.  Pandas\n",
        "3.  Scikit-learn.\n",
        "4. TensorFlow\n",
        "\n",
        "\n",
        "\n",
        "\n",
        "\n",
        "\n"
      ],
      "metadata": {
        "id": "GWL9R6BiPFZ_"
      }
    },
    {
      "cell_type": "markdown",
      "source": [
        "|Data Science Tools|\n",
        "|---|\n",
        "|HADOOP|\n",
        "|Apache Spark|\n",
        "|Spyder|\n",
        "|R Studio|\n",
        "|Zeppelin|"
      ],
      "metadata": {
        "id": "DfF9p6ezRxmr"
      }
    },
    {
      "cell_type": "markdown",
      "source": [
        "# Below are a few examples of evaluating arithmetic expressions in Python.\n"
      ],
      "metadata": {
        "id": "uPb7czDQT8z7"
      }
    },
    {
      "cell_type": "code",
      "source": [
        "#This a simple arithmetic expression to mutiply then add integers.\n",
        "(3*4)+5"
      ],
      "metadata": {
        "colab": {
          "base_uri": "https://localhost:8080/"
        },
        "id": "V2NICN5OUliS",
        "outputId": "e77ee31f-df11-4db0-b4c2-5537d95eabf4"
      },
      "execution_count": 1,
      "outputs": [
        {
          "output_type": "execute_result",
          "data": {
            "text/plain": [
              "17"
            ]
          },
          "metadata": {},
          "execution_count": 1
        }
      ]
    },
    {
      "cell_type": "code",
      "source": [
        "#This will convert 200 minutes to hours by diving by 60\n",
        "min = 200\n",
        "hours = min / 60\n",
        "print(\"240 minutes are equivalent to\", hours, \"hours\")"
      ],
      "metadata": {
        "colab": {
          "base_uri": "https://localhost:8080/"
        },
        "id": "dvZuLIfQU_nr",
        "outputId": "a3cf1396-4698-4b93-aadc-f6b2ccc129ff"
      },
      "execution_count": 2,
      "outputs": [
        {
          "output_type": "stream",
          "name": "stdout",
          "text": [
            "240 minutes are equivalent to 3.3333333333333335 hours\n"
          ]
        }
      ]
    },
    {
      "cell_type": "markdown",
      "source": [
        "**Objectives:**\n",
        "\n",
        "\n",
        "- List of well known Data Science Tools\n",
        "- List popular libraries for Data Science\n",
        "- List popular languages for Data Science\n",
        "- How to Provide comments in the cell\n",
        "- Explaning Data Science Concepts\n",
        "- Data Analysis Techniques\n",
        "\n"
      ],
      "metadata": {
        "id": "drxl8OHTUCBu"
      }
    },
    {
      "cell_type": "markdown",
      "source": [
        "# AUTOR"
      ],
      "metadata": {
        "id": "T7OhMvgpW01m"
      }
    },
    {
      "cell_type": "markdown",
      "source": [
        "Yaki Guerrero García ❤"
      ],
      "metadata": {
        "id": "TzMFAnpMXTgO"
      }
    }
  ]
}